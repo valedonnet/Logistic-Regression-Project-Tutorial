{
  "nbformat": 4,
  "nbformat_minor": 0,
  "metadata": {
    "colab": {
      "provenance": [],
      "authorship_tag": "ABX9TyM6gfo4xxlpetGTLfpLNf1k",
      "include_colab_link": true
    },
    "kernelspec": {
      "name": "python3",
      "display_name": "Python 3"
    },
    "language_info": {
      "name": "python"
    }
  },
  "cells": [
    {
      "cell_type": "markdown",
      "metadata": {
        "id": "view-in-github",
        "colab_type": "text"
      },
      "source": [
        "<a href=\"https://colab.research.google.com/github/valedonnet/Logistic-Regression-Project-Tutorial/blob/main/Logistic_Regression_Project_Tutorial.ipynb\" target=\"_parent\"><img src=\"https://colab.research.google.com/assets/colab-badge.svg\" alt=\"Open In Colab\"/></a>"
      ]
    },
    {
      "cell_type": "code",
      "execution_count": 1,
      "metadata": {
        "id": "qhWS-rXTWcMx",
        "colab": {
          "base_uri": "https://localhost:8080/"
        },
        "outputId": "89d31694-03d7-460f-edcd-84fa1fc9a3bf"
      },
      "outputs": [
        {
          "output_type": "stream",
          "name": "stdout",
          "text": [
            "Collecting tableone\n",
            "  Downloading tableone-0.9.1-py3-none-any.whl.metadata (8.5 kB)\n",
            "Requirement already satisfied: jinja2>=3.1.4 in /usr/local/lib/python3.10/dist-packages (from tableone) (3.1.4)\n",
            "Requirement already satisfied: numpy>=1.19.1 in /usr/local/lib/python3.10/dist-packages (from tableone) (1.26.4)\n",
            "Requirement already satisfied: openpyxl>=3.1.2 in /usr/local/lib/python3.10/dist-packages (from tableone) (3.1.5)\n",
            "Requirement already satisfied: pandas>=2.0.3 in /usr/local/lib/python3.10/dist-packages (from tableone) (2.1.4)\n",
            "Requirement already satisfied: scipy>=1.10.1 in /usr/local/lib/python3.10/dist-packages (from tableone) (1.13.1)\n",
            "Requirement already satisfied: statsmodels>=0.14.1 in /usr/local/lib/python3.10/dist-packages (from tableone) (0.14.3)\n",
            "Requirement already satisfied: tabulate>=0.9.0 in /usr/local/lib/python3.10/dist-packages (from tableone) (0.9.0)\n",
            "Requirement already satisfied: MarkupSafe>=2.0 in /usr/local/lib/python3.10/dist-packages (from jinja2>=3.1.4->tableone) (2.1.5)\n",
            "Requirement already satisfied: et-xmlfile in /usr/local/lib/python3.10/dist-packages (from openpyxl>=3.1.2->tableone) (1.1.0)\n",
            "Requirement already satisfied: python-dateutil>=2.8.2 in /usr/local/lib/python3.10/dist-packages (from pandas>=2.0.3->tableone) (2.8.2)\n",
            "Requirement already satisfied: pytz>=2020.1 in /usr/local/lib/python3.10/dist-packages (from pandas>=2.0.3->tableone) (2024.2)\n",
            "Requirement already satisfied: tzdata>=2022.1 in /usr/local/lib/python3.10/dist-packages (from pandas>=2.0.3->tableone) (2024.1)\n",
            "Requirement already satisfied: patsy>=0.5.6 in /usr/local/lib/python3.10/dist-packages (from statsmodels>=0.14.1->tableone) (0.5.6)\n",
            "Requirement already satisfied: packaging>=21.3 in /usr/local/lib/python3.10/dist-packages (from statsmodels>=0.14.1->tableone) (24.1)\n",
            "Requirement already satisfied: six in /usr/local/lib/python3.10/dist-packages (from patsy>=0.5.6->statsmodels>=0.14.1->tableone) (1.16.0)\n",
            "Downloading tableone-0.9.1-py3-none-any.whl (41 kB)\n",
            "\u001b[2K   \u001b[90m━━━━━━━━━━━━━━━━━━━━━━━━━━━━━━━━━━━━━━━━\u001b[0m \u001b[32m41.6/41.6 kB\u001b[0m \u001b[31m1.2 MB/s\u001b[0m eta \u001b[36m0:00:00\u001b[0m\n",
            "\u001b[?25hInstalling collected packages: tableone\n",
            "Successfully installed tableone-0.9.1\n"
          ]
        }
      ],
      "source": [
        "import pandas as pd\n",
        "import numpy as np\n",
        "import matplotlib.pyplot as plt\n",
        "import seaborn as sns\n",
        "from scipy import stats\n",
        "from sklearn.preprocessing import OneHotEncoder, OrdinalEncoder\n",
        "!pip install tableone"
      ]
    },
    {
      "cell_type": "code",
      "source": [
        "df=pd.read_csv(\"https://raw.githubusercontent.com/4GeeksAcademy/logistic-regression-project-tutorial/main/bank-marketing-campaign-data.csv\",\n",
        "               sep=';')"
      ],
      "metadata": {
        "id": "pjQsKAMjW1uk"
      },
      "execution_count": 2,
      "outputs": []
    },
    {
      "cell_type": "code",
      "source": [
        "df.info()"
      ],
      "metadata": {
        "colab": {
          "base_uri": "https://localhost:8080/"
        },
        "id": "gwHo_zBbYosw",
        "outputId": "1f2ac409-6881-4ebb-92ba-50fd044981d2"
      },
      "execution_count": 3,
      "outputs": [
        {
          "output_type": "stream",
          "name": "stdout",
          "text": [
            "<class 'pandas.core.frame.DataFrame'>\n",
            "RangeIndex: 41188 entries, 0 to 41187\n",
            "Data columns (total 21 columns):\n",
            " #   Column          Non-Null Count  Dtype  \n",
            "---  ------          --------------  -----  \n",
            " 0   age             41188 non-null  int64  \n",
            " 1   job             41188 non-null  object \n",
            " 2   marital         41188 non-null  object \n",
            " 3   education       41188 non-null  object \n",
            " 4   default         41188 non-null  object \n",
            " 5   housing         41188 non-null  object \n",
            " 6   loan            41188 non-null  object \n",
            " 7   contact         41188 non-null  object \n",
            " 8   month           41188 non-null  object \n",
            " 9   day_of_week     41188 non-null  object \n",
            " 10  duration        41188 non-null  int64  \n",
            " 11  campaign        41188 non-null  int64  \n",
            " 12  pdays           41188 non-null  int64  \n",
            " 13  previous        41188 non-null  int64  \n",
            " 14  poutcome        41188 non-null  object \n",
            " 15  emp.var.rate    41188 non-null  float64\n",
            " 16  cons.price.idx  41188 non-null  float64\n",
            " 17  cons.conf.idx   41188 non-null  float64\n",
            " 18  euribor3m       41188 non-null  float64\n",
            " 19  nr.employed     41188 non-null  float64\n",
            " 20  y               41188 non-null  object \n",
            "dtypes: float64(5), int64(5), object(11)\n",
            "memory usage: 6.6+ MB\n"
          ]
        }
      ]
    },
    {
      "cell_type": "code",
      "source": [
        "def is_binary(df_, nums):\n",
        "    df = df_.copy()\n",
        "    variables = []\n",
        "    for var in nums:\n",
        "        flag = True\n",
        "        unique = df_[var].unique()\n",
        "        for value in unique:\n",
        "            if value not in [0, 1, np.nan, 0.0, 1.0]:\n",
        "                flag = False\n",
        "        if flag == True:\n",
        "            variables.append(var)\n",
        "    return variables\n",
        "\n",
        "def breakdown_vars(df, off_binary=False):\n",
        "    \"\"\"\n",
        "    This function allow us categorize accodign to numerical or not\n",
        "    \"\"\"\n",
        "    binaries = is_binary(df, df.columns)\n",
        "    categorial = []\n",
        "    nonormal = []\n",
        "    normal = []\n",
        "    for t in df.columns:\n",
        "        if off_binary == False:\n",
        "          if (df[t].dtypes.name==\"object\" or df[t].dtypes.name=='category') and  t not in binaries:\n",
        "            categorial.append(t)\n",
        "        else:\n",
        "           if (df[t].dtypes.name==\"object\" or df[t].dtypes.name=='category'):\n",
        "            categorial.append(t)\n",
        "        if (df[t].dtypes==\"int64\" or df[t].dtypes==\"float64\") and t not in binaries:\n",
        "                n,p = stats.shapiro(df[t])\n",
        "                if p<0.05:\n",
        "                    nonormal.append(t)\n",
        "                else:\n",
        "                    normal.append(t)\n",
        "    if off_binary == False:\n",
        "      return categorial, binaries, nonormal, normal\n",
        "    else:\n",
        "      return categorial, nonormal, normal"
      ],
      "metadata": {
        "id": "CudgMQPUacfA"
      },
      "execution_count": 4,
      "outputs": []
    },
    {
      "cell_type": "code",
      "source": [
        "cat, nonormal ,  normal = breakdown_vars(df,  off_binary=True)"
      ],
      "metadata": {
        "colab": {
          "base_uri": "https://localhost:8080/"
        },
        "id": "lrBgZ3nsalZW",
        "outputId": "8fbb4978-db41-4a5b-c655-25ae7c88ea59"
      },
      "execution_count": 5,
      "outputs": [
        {
          "output_type": "stream",
          "name": "stderr",
          "text": [
            "/usr/local/lib/python3.10/dist-packages/scipy/stats/_axis_nan_policy.py:531: UserWarning: scipy.stats.shapiro: For N > 5000, computed p-value may not be accurate. Current N is 41188.\n",
            "  res = hypotest_fun_out(*samples, **kwds)\n"
          ]
        }
      ]
    },
    {
      "cell_type": "code",
      "source": [
        "df.columns"
      ],
      "metadata": {
        "colab": {
          "base_uri": "https://localhost:8080/"
        },
        "id": "y2F_yQ52ce4O",
        "outputId": "da786e08-442b-4cb4-e775-4fda6c637227"
      },
      "execution_count": 6,
      "outputs": [
        {
          "output_type": "execute_result",
          "data": {
            "text/plain": [
              "Index(['age', 'job', 'marital', 'education', 'default', 'housing', 'loan',\n",
              "       'contact', 'month', 'day_of_week', 'duration', 'campaign', 'pdays',\n",
              "       'previous', 'poutcome', 'emp.var.rate', 'cons.price.idx',\n",
              "       'cons.conf.idx', 'euribor3m', 'nr.employed', 'y'],\n",
              "      dtype='object')"
            ]
          },
          "metadata": {},
          "execution_count": 6
        }
      ]
    },
    {
      "cell_type": "code",
      "source": [
        "#The groupby parameter is required to perform statistical tests and calculate p-values when generating a table with TableOne."
      ],
      "metadata": {
        "id": "mvIN9RCRcKtd"
      },
      "execution_count": 7,
      "outputs": []
    },
    {
      "cell_type": "code",
      "source": [
        "from tableone import TableOne"
      ],
      "metadata": {
        "id": "60W0VZ-8bmBO"
      },
      "execution_count": 8,
      "outputs": []
    },
    {
      "cell_type": "code",
      "source": [
        "mytable=TableOne(df, categorical=cat, nonnormal=nonormal, groupby='y',pval=True)"
      ],
      "metadata": {
        "id": "73ZUiLbfb0MO"
      },
      "execution_count": 9,
      "outputs": []
    },
    {
      "cell_type": "code",
      "source": [
        "mytable"
      ],
      "metadata": {
        "colab": {
          "base_uri": "https://localhost:8080/",
          "height": 472
        },
        "id": "DP4f8IrHeIbe",
        "outputId": "98869b31-124d-466d-c9a1-06600e0c6908"
      },
      "execution_count": 10,
      "outputs": [
        {
          "output_type": "execute_result",
          "data": {
            "text/plain": [
              "                                                   Grouped by y                                                                                \n",
              "                                                        Missing                 Overall                      no                     yes P-Value\n",
              "n                                                                                 41188                   36548                    4640        \n",
              "age, median [Q1,Q3]                                           0        38.0 [32.0,47.0]        38.0 [32.0,47.0]        37.0 [31.0,50.0]   0.016\n",
              "job, n (%)                     admin.                                      10422 (25.3)             9070 (24.8)             1352 (29.1)  <0.001\n",
              "                               blue-collar                                  9254 (22.5)             8616 (23.6)              638 (13.8)        \n",
              "                               entrepreneur                                  1456 (3.5)              1332 (3.6)               124 (2.7)        \n",
              "                               housemaid                                     1060 (2.6)               954 (2.6)               106 (2.3)        \n",
              "                               management                                    2924 (7.1)              2596 (7.1)               328 (7.1)        \n",
              "                               retired                                       1720 (4.2)              1286 (3.5)               434 (9.4)        \n",
              "                               self-employed                                 1421 (3.5)              1272 (3.5)               149 (3.2)        \n",
              "                               services                                      3969 (9.6)             3646 (10.0)               323 (7.0)        \n",
              "                               student                                        875 (2.1)               600 (1.6)               275 (5.9)        \n",
              "                               technician                                   6743 (16.4)             6013 (16.5)              730 (15.7)        \n",
              "                               unemployed                                    1014 (2.5)               870 (2.4)               144 (3.1)        \n",
              "                               unknown                                        330 (0.8)               293 (0.8)                37 (0.8)        \n",
              "marital, n (%)                 divorced                                     4612 (11.2)             4136 (11.3)              476 (10.3)  <0.001\n",
              "                               married                                     24928 (60.5)            22396 (61.3)             2532 (54.6)        \n",
              "                               single                                      11568 (28.1)             9948 (27.2)             1620 (34.9)        \n",
              "                               unknown                                         80 (0.2)                68 (0.2)                12 (0.3)        \n",
              "education, n (%)               basic.4y                                     4176 (10.1)             3748 (10.3)               428 (9.2)  <0.001\n",
              "                               basic.6y                                      2292 (5.6)              2104 (5.8)               188 (4.1)        \n",
              "                               basic.9y                                     6045 (14.7)             5572 (15.2)              473 (10.2)        \n",
              "                               high.school                                  9515 (23.1)             8484 (23.2)             1031 (22.2)        \n",
              "                               illiterate                                      18 (0.0)                14 (0.0)                 4 (0.1)        \n",
              "                               professional.course                          5243 (12.7)             4648 (12.7)              595 (12.8)        \n",
              "                               university.degree                           12168 (29.5)            10498 (28.7)             1670 (36.0)        \n",
              "                               unknown                                       1731 (4.2)              1480 (4.0)               251 (5.4)        \n",
              "default, n (%)                 no                                          32588 (79.1)            28391 (77.7)             4197 (90.5)  <0.001\n",
              "                               unknown                                      8597 (20.9)             8154 (22.3)               443 (9.5)        \n",
              "                               yes                                              3 (0.0)                 3 (0.0)                                \n",
              "housing, n (%)                 no                                          18622 (45.2)            16596 (45.4)             2026 (43.7)   0.058\n",
              "                               unknown                                        990 (2.4)               883 (2.4)               107 (2.3)        \n",
              "                               yes                                         21576 (52.4)            19069 (52.2)             2507 (54.0)        \n",
              "loan, n (%)                    no                                          33950 (82.4)            30100 (82.4)             3850 (83.0)   0.579\n",
              "                               unknown                                        990 (2.4)               883 (2.4)               107 (2.3)        \n",
              "                               yes                                          6248 (15.2)             5565 (15.2)              683 (14.7)        \n",
              "contact, n (%)                 cellular                                    26144 (63.5)            22291 (61.0)             3853 (83.0)  <0.001\n",
              "                               telephone                                   15044 (36.5)            14257 (39.0)              787 (17.0)        \n",
              "month, n (%)                   apr                                           2632 (6.4)              2093 (5.7)              539 (11.6)  <0.001\n",
              "                               aug                                          6178 (15.0)             5523 (15.1)              655 (14.1)        \n",
              "                               dec                                            182 (0.4)                93 (0.3)                89 (1.9)        \n",
              "                               jul                                          7174 (17.4)             6525 (17.9)              649 (14.0)        \n",
              "                               jun                                          5318 (12.9)             4759 (13.0)              559 (12.0)        \n",
              "                               mar                                            546 (1.3)               270 (0.7)               276 (5.9)        \n",
              "                               may                                         13769 (33.4)            12883 (35.2)              886 (19.1)        \n",
              "                               nov                                          4101 (10.0)             3685 (10.1)               416 (9.0)        \n",
              "                               oct                                            718 (1.7)               403 (1.1)               315 (6.8)        \n",
              "                               sep                                            570 (1.4)               314 (0.9)               256 (5.5)        \n",
              "day_of_week, n (%)             fri                                          7827 (19.0)             6981 (19.1)              846 (18.2)  <0.001\n",
              "                               mon                                          8514 (20.7)             7667 (21.0)              847 (18.3)        \n",
              "                               thu                                          8623 (20.9)             7578 (20.7)             1045 (22.5)        \n",
              "                               tue                                          8090 (19.6)             7137 (19.5)              953 (20.5)        \n",
              "                               wed                                          8134 (19.7)             7185 (19.7)              949 (20.5)        \n",
              "duration, median [Q1,Q3]                                      0     180.0 [102.0,319.0]      163.5 [95.0,279.0]     449.0 [253.0,741.2]  <0.001\n",
              "campaign, median [Q1,Q3]                                      0           2.0 [1.0,3.0]           2.0 [1.0,3.0]           2.0 [1.0,2.0]  <0.001\n",
              "pdays, median [Q1,Q3]                                         0     999.0 [999.0,999.0]     999.0 [999.0,999.0]     999.0 [999.0,999.0]  <0.001\n",
              "previous, median [Q1,Q3]                                      0           0.0 [0.0,0.0]           0.0 [0.0,0.0]           0.0 [0.0,1.0]  <0.001\n",
              "poutcome, n (%)                failure                                      4252 (10.3)             3647 (10.0)              605 (13.0)  <0.001\n",
              "                               nonexistent                                 35563 (86.3)            32422 (88.7)             3141 (67.7)        \n",
              "                               success                                       1373 (3.3)               479 (1.3)              894 (19.3)        \n",
              "emp.var.rate, median [Q1,Q3]                                  0          1.1 [-1.8,1.4]          1.1 [-1.8,1.4]        -1.8 [-1.8,-0.1]  <0.001\n",
              "cons.price.idx, median [Q1,Q3]                                0        93.7 [93.1,94.0]        93.9 [93.1,94.0]        93.2 [92.9,93.9]  <0.001\n",
              "cons.conf.idx, median [Q1,Q3]                                 0     -41.8 [-42.7,-36.4]     -41.8 [-42.7,-36.4]     -40.4 [-46.2,-36.1]  <0.001\n",
              "euribor3m, median [Q1,Q3]                                     0           4.9 [1.3,5.0]           4.9 [1.4,5.0]           1.3 [0.8,4.4]  <0.001\n",
              "nr.employed, median [Q1,Q3]                                   0  5191.0 [5099.1,5228.1]  5195.8 [5099.1,5228.1]  5099.1 [5017.5,5191.0]  <0.001\n",
              "y, n (%)                       no                                          36548 (88.7)           36548 (100.0)                          <0.001\n",
              "                               yes                                          4640 (11.3)                                    4640 (100.0)        "
            ],
            "text/html": [
              "<div>\n",
              "<style scoped>\n",
              "    .dataframe tbody tr th:only-of-type {\n",
              "        vertical-align: middle;\n",
              "    }\n",
              "\n",
              "    .dataframe tbody tr th {\n",
              "        vertical-align: top;\n",
              "    }\n",
              "\n",
              "    .dataframe thead tr th {\n",
              "        text-align: left;\n",
              "    }\n",
              "</style>\n",
              "<table border=\"1\" class=\"dataframe\">\n",
              "  <thead>\n",
              "    <tr>\n",
              "      <th></th>\n",
              "      <th></th>\n",
              "      <th colspan=\"5\" halign=\"left\">Grouped by y</th>\n",
              "    </tr>\n",
              "    <tr>\n",
              "      <th></th>\n",
              "      <th></th>\n",
              "      <th>Missing</th>\n",
              "      <th>Overall</th>\n",
              "      <th>no</th>\n",
              "      <th>yes</th>\n",
              "      <th>P-Value</th>\n",
              "    </tr>\n",
              "  </thead>\n",
              "  <tbody>\n",
              "    <tr>\n",
              "      <th>n</th>\n",
              "      <th></th>\n",
              "      <td></td>\n",
              "      <td>41188</td>\n",
              "      <td>36548</td>\n",
              "      <td>4640</td>\n",
              "      <td></td>\n",
              "    </tr>\n",
              "    <tr>\n",
              "      <th>age, median [Q1,Q3]</th>\n",
              "      <th></th>\n",
              "      <td>0</td>\n",
              "      <td>38.0 [32.0,47.0]</td>\n",
              "      <td>38.0 [32.0,47.0]</td>\n",
              "      <td>37.0 [31.0,50.0]</td>\n",
              "      <td>0.016</td>\n",
              "    </tr>\n",
              "    <tr>\n",
              "      <th rowspan=\"3\" valign=\"top\">job, n (%)</th>\n",
              "      <th>admin.</th>\n",
              "      <td></td>\n",
              "      <td>10422 (25.3)</td>\n",
              "      <td>9070 (24.8)</td>\n",
              "      <td>1352 (29.1)</td>\n",
              "      <td>&lt;0.001</td>\n",
              "    </tr>\n",
              "    <tr>\n",
              "      <th>blue-collar</th>\n",
              "      <td></td>\n",
              "      <td>9254 (22.5)</td>\n",
              "      <td>8616 (23.6)</td>\n",
              "      <td>638 (13.8)</td>\n",
              "      <td></td>\n",
              "    </tr>\n",
              "    <tr>\n",
              "      <th>entrepreneur</th>\n",
              "      <td></td>\n",
              "      <td>1456 (3.5)</td>\n",
              "      <td>1332 (3.6)</td>\n",
              "      <td>124 (2.7)</td>\n",
              "      <td></td>\n",
              "    </tr>\n",
              "    <tr>\n",
              "      <th>...</th>\n",
              "      <th>...</th>\n",
              "      <td>...</td>\n",
              "      <td>...</td>\n",
              "      <td>...</td>\n",
              "      <td>...</td>\n",
              "      <td>...</td>\n",
              "    </tr>\n",
              "    <tr>\n",
              "      <th>cons.conf.idx, median [Q1,Q3]</th>\n",
              "      <th></th>\n",
              "      <td>0</td>\n",
              "      <td>-41.8 [-42.7,-36.4]</td>\n",
              "      <td>-41.8 [-42.7,-36.4]</td>\n",
              "      <td>-40.4 [-46.2,-36.1]</td>\n",
              "      <td>&lt;0.001</td>\n",
              "    </tr>\n",
              "    <tr>\n",
              "      <th>euribor3m, median [Q1,Q3]</th>\n",
              "      <th></th>\n",
              "      <td>0</td>\n",
              "      <td>4.9 [1.3,5.0]</td>\n",
              "      <td>4.9 [1.4,5.0]</td>\n",
              "      <td>1.3 [0.8,4.4]</td>\n",
              "      <td>&lt;0.001</td>\n",
              "    </tr>\n",
              "    <tr>\n",
              "      <th>nr.employed, median [Q1,Q3]</th>\n",
              "      <th></th>\n",
              "      <td>0</td>\n",
              "      <td>5191.0 [5099.1,5228.1]</td>\n",
              "      <td>5195.8 [5099.1,5228.1]</td>\n",
              "      <td>5099.1 [5017.5,5191.0]</td>\n",
              "      <td>&lt;0.001</td>\n",
              "    </tr>\n",
              "    <tr>\n",
              "      <th rowspan=\"2\" valign=\"top\">y, n (%)</th>\n",
              "      <th>no</th>\n",
              "      <td></td>\n",
              "      <td>36548 (88.7)</td>\n",
              "      <td>36548 (100.0)</td>\n",
              "      <td></td>\n",
              "      <td>&lt;0.001</td>\n",
              "    </tr>\n",
              "    <tr>\n",
              "      <th>yes</th>\n",
              "      <td></td>\n",
              "      <td>4640 (11.3)</td>\n",
              "      <td></td>\n",
              "      <td>4640 (100.0)</td>\n",
              "      <td></td>\n",
              "    </tr>\n",
              "  </tbody>\n",
              "</table>\n",
              "<p>66 rows × 5 columns</p>\n",
              "</div><br />"
            ]
          },
          "metadata": {},
          "execution_count": 10
        }
      ]
    },
    {
      "cell_type": "code",
      "source": [
        "#Existe diferencia significativa en las variables para el evento de interés (y) y el grupo de control."
      ],
      "metadata": {
        "id": "CzIHb4OkpnZR"
      },
      "execution_count": 11,
      "outputs": []
    },
    {
      "cell_type": "code",
      "source": [
        "# Existe multicolinelidad\n",
        "\n",
        "#SIEMPRE NORMALIZO DESPUES DE SPLIT TRAIN AND TEST\n",
        "def normalize(array):\n",
        "  return (array - array.mean())/array.std()"
      ],
      "metadata": {
        "id": "VjuPMjGRtw6w"
      },
      "execution_count": 12,
      "outputs": []
    },
    {
      "cell_type": "code",
      "source": [
        "num = normal + nonormal\n",
        "for numerical in num:\n",
        "  df[numerical] = normalize(df[numerical].to_numpy())"
      ],
      "metadata": {
        "id": "PhUa4rxmt59H"
      },
      "execution_count": 13,
      "outputs": []
    },
    {
      "cell_type": "code",
      "source": [
        "df.columns"
      ],
      "metadata": {
        "colab": {
          "base_uri": "https://localhost:8080/"
        },
        "id": "L-Eb9JC4u5Y-",
        "outputId": "8610c783-6018-4b75-e05c-701b3c323039"
      },
      "execution_count": 14,
      "outputs": [
        {
          "output_type": "execute_result",
          "data": {
            "text/plain": [
              "Index(['age', 'job', 'marital', 'education', 'default', 'housing', 'loan',\n",
              "       'contact', 'month', 'day_of_week', 'duration', 'campaign', 'pdays',\n",
              "       'previous', 'poutcome', 'emp.var.rate', 'cons.price.idx',\n",
              "       'cons.conf.idx', 'euribor3m', 'nr.employed', 'y'],\n",
              "      dtype='object')"
            ]
          },
          "metadata": {},
          "execution_count": 14
        }
      ]
    },
    {
      "cell_type": "code",
      "source": [
        "mytable = TableOne(df,categorical=cat, nonnormal=nonormal, groupby='y', pval=True)"
      ],
      "metadata": {
        "id": "1Qkm3VGYuJm2"
      },
      "execution_count": null,
      "outputs": []
    },
    {
      "cell_type": "code",
      "source": [
        "mytable"
      ],
      "metadata": {
        "id": "udyaygZ0uSa-"
      },
      "execution_count": null,
      "outputs": []
    },
    {
      "cell_type": "code",
      "source": [
        "mytable.to_excel('Tableone.xlsx')"
      ],
      "metadata": {
        "id": "85ZbGp91EGyk"
      },
      "execution_count": null,
      "outputs": []
    },
    {
      "cell_type": "code",
      "source": [
        "cat"
      ],
      "metadata": {
        "id": "2kWpMiaS2CSp"
      },
      "execution_count": null,
      "outputs": []
    },
    {
      "cell_type": "code",
      "source": [
        "df.columns"
      ],
      "metadata": {
        "id": "dGY_wc9s_aLX"
      },
      "execution_count": null,
      "outputs": []
    },
    {
      "cell_type": "code",
      "source": [
        "from sklearn.preprocessing import OneHotEncoder\n",
        "import pandas as pd\n",
        "\n",
        "# Crear el objeto OneHotEncoder\n",
        "ohe = OneHotEncoder(handle_unknown='ignore', drop='first')\n",
        "\n",
        "# Aplicar OneHotEncoder a las columnas categóricas\n",
        "ohe_df = pd.DataFrame(ohe.fit_transform(df[['job',\n",
        " 'marital',\n",
        " 'education',\n",
        " 'default',\n",
        " 'housing',\n",
        " 'loan',\n",
        " 'contact',\n",
        " 'month',\n",
        " 'day_of_week',\n",
        " 'poutcome']]).toarray())\n",
        "\n",
        "# Actualizar el índice del DataFrame codificado para que coincida con el DataFrame original\n",
        "ohe_df.index = df.index\n",
        "\n",
        "# Eliminar las columnas categóricas originales\n",
        "df.drop(columns=['job', 'marital', 'education', 'default', 'housing', 'loan',\n",
        " 'contact', 'month', 'day_of_week', 'poutcome'], inplace=True)\n",
        "\n",
        "# Asignar nombres a las nuevas columnas codificadas\n",
        "ohe_df.columns = ohe.get_feature_names_out(['job', 'marital', 'education', 'default',\n",
        "                                            'housing', 'loan', 'contact', 'month',\n",
        "                                            'day_of_week', 'poutcome'])\n",
        "\n",
        "# Unir el DataFrame original con el DataFrame codificado\n",
        "df = df.join(ohe_df)\n",
        "\n"
      ],
      "metadata": {
        "id": "me2kcE28_RMa"
      },
      "execution_count": null,
      "outputs": []
    },
    {
      "cell_type": "code",
      "source": [
        "df.head()"
      ],
      "metadata": {
        "id": "_IqZkaMtBlkE"
      },
      "execution_count": null,
      "outputs": []
    },
    {
      "cell_type": "code",
      "source": [
        "df['y'].unique()"
      ],
      "metadata": {
        "id": "m9XYSbUoDCvp"
      },
      "execution_count": null,
      "outputs": []
    },
    {
      "cell_type": "code",
      "source": [
        "df.info()\n"
      ],
      "metadata": {
        "id": "stcOzKeOCN0d"
      },
      "execution_count": null,
      "outputs": []
    },
    {
      "cell_type": "code",
      "source": [
        "df['y'] = df['y'].map({'yes': 1, 'no': 0})"
      ],
      "metadata": {
        "id": "4RsKzncaC29B"
      },
      "execution_count": null,
      "outputs": []
    },
    {
      "cell_type": "code",
      "source": [
        "corrMatrix = df.corr(method='spearman')\n",
        "mask = np.zeros_like(corrMatrix)\n",
        "mask[np.triu_indices_from(mask)] = True\n",
        "with sns.axes_style(\"white\"):\n",
        "     f, ax = plt.subplots(figsize=(40, 30))\n",
        "     ax = sns.heatmap(corrMatrix, mask=mask, square=True, annot=True, cmap=\"gray\")"
      ],
      "metadata": {
        "collapsed": true,
        "id": "yBrWnzKZqq1s"
      },
      "execution_count": null,
      "outputs": []
    },
    {
      "cell_type": "code",
      "source": [
        "y = df['y']"
      ],
      "metadata": {
        "id": "hEjL3EpxE9N5"
      },
      "execution_count": null,
      "outputs": []
    },
    {
      "cell_type": "code",
      "source": [
        "X = df[df.columns[df.columns!='y']]"
      ],
      "metadata": {
        "id": "ea808ypLFBxA"
      },
      "execution_count": null,
      "outputs": []
    },
    {
      "cell_type": "code",
      "source": [
        "from sklearn.model_selection import train_test_split"
      ],
      "metadata": {
        "id": "CILUQvBuFFAw"
      },
      "execution_count": null,
      "outputs": []
    },
    {
      "cell_type": "code",
      "source": [
        "# With\n",
        "X_train, X_test, y_train, y_test = train_test_split(X, y,\n",
        "                                                    test_size=0.3,\n",
        "                                                    shuffle = True,\n",
        "                                                    random_state = 123,\n",
        "                                                    stratify = y)"
      ],
      "metadata": {
        "id": "hj9xLvP_FG7f"
      },
      "execution_count": null,
      "outputs": []
    },
    {
      "cell_type": "code",
      "source": [
        "from sklearn.linear_model import LogisticRegression\n",
        "from sklearn.metrics import accuracy_score\n",
        "from sklearn.metrics import classification_report"
      ],
      "metadata": {
        "id": "5pLwJEB6FJkA"
      },
      "execution_count": null,
      "outputs": []
    },
    {
      "cell_type": "code",
      "source": [
        "clf=LogisticRegression()\n",
        "clf.fit(X_train, y_train)"
      ],
      "metadata": {
        "id": "gjgmerICFMWv"
      },
      "execution_count": null,
      "outputs": []
    },
    {
      "cell_type": "code",
      "source": [
        "preds=clf.predict(X_test)\n",
        "print(classification_report(y_test,preds))"
      ],
      "metadata": {
        "id": "WwdLk2AuFoQO"
      },
      "execution_count": null,
      "outputs": []
    },
    {
      "cell_type": "markdown",
      "source": [
        "El modelo funciona muy bien en la clase mayoritaria (clase 0), pero tiene dificultades significativas con la clase minoritaria (clase 1), como se ve en el menor recuerdo y la puntuación F1 para la clase 1.\n",
        "Esto indica un problema de desequilibrio en el que el modelo puede estar sesgado hacia la clase 0."
      ],
      "metadata": {
        "id": "XqFPyW-hqTlH"
      }
    },
    {
      "cell_type": "code",
      "source": [
        "#Quería chequear que era el mismo valor accuracy f1_score del reporte\n",
        "grid_accuracy = accuracy_score(y_test, preds)\n",
        "grid_accuracy"
      ],
      "metadata": {
        "id": "I4yFYDdpq5MW"
      },
      "execution_count": null,
      "outputs": []
    },
    {
      "cell_type": "code",
      "source": [
        "# Hay 10965 muestras de la clase 0: Precisión 93% (de los casos 0 previsto el 93% fueron correctos), Recall 97% (El módelo identifico correctamente el 97% de las instancias verdaderas de calse 0),\n",
        "#Hay 1392 muestras de clase 1: El 66% de las instancias predichas como clase 1 eran en realidad clase 1. El modelo solo identificó el 43% de las instancias verdaderas de clase 1.\n"
      ],
      "metadata": {
        "id": "EK1Jeusdo1nd"
      },
      "execution_count": null,
      "outputs": []
    },
    {
      "cell_type": "code",
      "source": [
        "clf.get_params()"
      ],
      "metadata": {
        "collapsed": true,
        "id": "myj2t3-8FujY"
      },
      "execution_count": null,
      "outputs": []
    },
    {
      "cell_type": "code",
      "source": [
        "from sklearn.model_selection import GridSearchCV\n",
        "\n",
        "# We define a dictionary with the parameters that we want to adjust by hand\n",
        "hyperparams = {\n",
        "    \"C\": [0.001, 0.01, 0.1, 1, 10, 100, 1000],\n",
        "    \"penalty\": [\"l1\", \"l2\", \"elasticnet\", None],\n",
        "    \"solver\": [\"newton-cg\", \"lbfgs\", \"liblinear\", \"sag\", \"saga\"]\n",
        "}\n",
        "\n",
        "# We initialize the grid. Scoring para indicar con que métrica lo voy a evaluar, puede ser más de uno\n",
        "#cv:Determina la estrategia de división de la validación cruzada.Si no indico algún int para cv por defecto utiliza la validación cruzada\n",
        "#quíntuple predeterminada, que divide los datos en cinco pliegues.\n",
        "\n",
        "grid = GridSearchCV(clf, hyperparams, scoring = \"accuracy\", cv = 5)\n",
        "grid"
      ],
      "metadata": {
        "id": "htJwtIrBFzW1",
        "collapsed": true
      },
      "execution_count": null,
      "outputs": []
    },
    {
      "cell_type": "code",
      "source": [
        "def warn(*args, **kwargs):\n",
        "    pass\n",
        "import warnings\n",
        "warnings.warn = warn\n",
        "\n",
        "#Ajustamos los datos definidos en grid para los 140 modelos\n",
        "\n",
        "grid.fit(X_train, y_train)\n",
        "\n",
        "print(f\"Best hyperparameters: {grid.best_params_}\")"
      ],
      "metadata": {
        "id": "inx5rp6dF6xl"
      },
      "execution_count": null,
      "outputs": []
    },
    {
      "cell_type": "code",
      "source": [
        "#keys() gives the names of all the metrics and parameters recorded in the cross-validation results.\n",
        "\n",
        "sorted(grid.cv_results_.keys())"
      ],
      "metadata": {
        "collapsed": true,
        "id": "evQQwBq5NWe_"
      },
      "execution_count": null,
      "outputs": []
    },
    {
      "cell_type": "code",
      "source": [
        "grid.cv_results_['params']"
      ],
      "metadata": {
        "collapsed": true,
        "id": "xT-70PaRW1HX"
      },
      "execution_count": null,
      "outputs": []
    },
    {
      "cell_type": "code",
      "source": [
        "print('rank_test_score')\n",
        "print(grid.cv_results_['rank_test_score'])\n",
        "print('mean_test_score')\n",
        "print(grid.cv_results_['mean_test_score'])\n",
        "print('best_score')\n",
        "print(grid.best_score_)\n",
        "print('best_params')\n",
        "print(grid.best_params_)"
      ],
      "metadata": {
        "collapsed": true,
        "id": "AG_6vp4tXQR-"
      },
      "execution_count": null,
      "outputs": []
    },
    {
      "cell_type": "code",
      "source": [
        "from sklearn.metrics import accuracy_score"
      ],
      "metadata": {
        "id": "wsg_LJ5xF-de"
      },
      "execution_count": null,
      "outputs": []
    },
    {
      "cell_type": "code",
      "source": [
        "model_grid = LogisticRegression(penalty = \"l1\", C = 10, solver = \"liblinear\")\n",
        "model_grid.fit(X_train, y_train)\n",
        "y_pred = model_grid.predict(X_test)\n",
        "\n",
        "grid_accuracy = accuracy_score(y_test, y_pred)\n",
        "grid_accuracy"
      ],
      "metadata": {
        "id": "zaIp0ed_GCtV"
      },
      "execution_count": null,
      "outputs": []
    },
    {
      "cell_type": "code",
      "source": [
        "#Puedo extraer del GridSearch el mejor modelo en vez de volver a generarlo en model_grid\n",
        "best_model = grid.best_estimator_\n",
        "print(best_model.predict(X_test))"
      ],
      "metadata": {
        "id": "-RL_U33LaVac"
      },
      "execution_count": null,
      "outputs": []
    },
    {
      "cell_type": "code",
      "source": [
        "from sklearn.model_selection import RandomizedSearchCV"
      ],
      "metadata": {
        "id": "4tlg7iYPGGh-"
      },
      "execution_count": null,
      "outputs": []
    },
    {
      "cell_type": "code",
      "source": [
        "# We define the parameters we want to adjust\n",
        "hyperparams = {\n",
        "    \"C\": np.logspace(-4, 4, 20),\n",
        "    \"penalty\": [\"l1\", \"l2\", \"elasticnet\", None],\n",
        "    \"solver\": [\"newton-cg\", \"lbfgs\", \"liblinear\", \"sag\", \"saga\"]\n",
        "}\n",
        "\n",
        "# We initialize the random search\n",
        "random_search = RandomizedSearchCV(clf, hyperparams, n_iter = 100, scoring = \"accuracy\", cv = 5, random_state = 42)\n",
        "random_search"
      ],
      "metadata": {
        "id": "ZtPMLE6NGK5Q"
      },
      "execution_count": null,
      "outputs": []
    },
    {
      "cell_type": "code",
      "source": [
        "random_search.fit(X_train, y_train)\n",
        "\n",
        "print(f\"Best hyperparameters: {random_search.best_params_}\")"
      ],
      "metadata": {
        "id": "RWBb8wJkGOW9"
      },
      "execution_count": null,
      "outputs": []
    },
    {
      "cell_type": "code",
      "source": [
        "model_random_search = LogisticRegression(penalty = \"l1\", C = 1.623776739188721, solver = \"liblinear\")\n",
        "model_random_search.fit(X_train, y_train)\n",
        "y_pred = model_random_search.predict(X_test)\n",
        "\n",
        "random_search_accuracy = accuracy_score(y_test, y_pred)\n",
        "random_search_accuracy"
      ],
      "metadata": {
        "id": "g97FsdpyGQu1"
      },
      "execution_count": null,
      "outputs": []
    },
    {
      "cell_type": "code",
      "source": [
        "#POSIBLES MEJORAS DEL MODELO:\n",
        "#UNDERSAMPLING\n",
        "#ELIMINAR VARIABLES \"confounding.\""
      ],
      "metadata": {
        "id": "EkD_nEVpM2qw"
      },
      "execution_count": null,
      "outputs": []
    },
    {
      "cell_type": "code",
      "source": [],
      "metadata": {
        "id": "v-0nU90fqdGe"
      },
      "execution_count": null,
      "outputs": []
    }
  ]
}